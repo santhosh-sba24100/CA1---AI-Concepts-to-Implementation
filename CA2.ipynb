{
 "cells": [
  {
   "cell_type": "markdown",
   "id": "cb984d05-dcf8-4b38-9b73-b2e8b1618cea",
   "metadata": {},
   "source": [
    "# Task1d: Min-Max Algorithm using Alpha-Beta Pruning"
   ]
  },
  {
   "cell_type": "code",
   "execution_count": null,
   "id": "f6c4ae22-7bb8-4793-b706-29ad76585d0b",
   "metadata": {},
   "outputs": [],
   "source": []
  }
 ],
 "metadata": {
  "kernelspec": {
   "display_name": "Python (myenv)",
   "language": "python",
   "name": "myenv"
  },
  "language_info": {
   "codemirror_mode": {
    "name": "ipython",
    "version": 3
   },
   "file_extension": ".py",
   "mimetype": "text/x-python",
   "name": "python",
   "nbconvert_exporter": "python",
   "pygments_lexer": "ipython3",
   "version": "3.12.8"
  }
 },
 "nbformat": 4,
 "nbformat_minor": 5
}
