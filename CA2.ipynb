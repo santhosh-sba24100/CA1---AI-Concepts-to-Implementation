{
 "cells": [
  {
   "cell_type": "markdown",
   "id": "cb984d05-dcf8-4b38-9b73-b2e8b1618cea",
   "metadata": {},
   "source": [
    "# Task1: Min-Max Algorithm"
   ]
  },
  {
   "attachments": {
    "937d5fd4-0367-4a63-b75e-43b469d08327.png": {
     "image/png": "[encoded data removed]"
    }
   },
   "cell_type": "markdown",
   "id": "1bdb932c-50e8-4892-b2e2-0a3d23f5aade",
   "metadata": {},
   "source": [
    "![image.png](attachment:937d5fd4-0367-4a63-b75e-43b469d08327.png)"
   ]
  },
  {
   "cell_type": "code",
   "execution_count": 1,
   "id": "f6c4ae22-7bb8-4793-b706-29ad76585d0b",
   "metadata": {},
   "outputs": [],
   "source": [
    "inf = 1000 #set a random max value for infinity that is very large then the max value in tree\n",
    "\n",
    "# declare a class for Treenode with 2 methods. 1 constructor and 1 to add children\n",
    "class TreeNode: #Class for tree\n",
    "    def __init__(self, value, name):  #self is must for class access, value contains tree vale and name\n",
    "        self.value = value\n",
    "        self.name = name\n",
    "        self.children = []  #iniitate a list to store the childs of a node\n",
    "\n",
    "    def add_child(self, child_node): #method to append child \n",
    "        self.children.append(child_node)\n",
    "\n",
    "\n",
    "\n",
    "\n"
   ]
  },
  {
   "cell_type": "code",
   "execution_count": 2,
   "id": "ef4bfd82-0a02-49eb-8fca-badac458db06",
   "metadata": {},
   "outputs": [],
   "source": [
    "# declare a recursive function to perform min max\n",
    "def min_max(node, level): # function declaration\n",
    "    if(len(node.children) == 0): #bottom or leaf node\n",
    "        return node.value # return the node value\n",
    "    \n",
    "    if(level): #level 1 is top node and it goes down by -1 value for each child node\n",
    "        max_val = -inf # initiate max value\n",
    "        for child in node.children: # loop over each child\n",
    "            val = min_max(child, 1-level) # recursive call to min_max by reducing the level value by 1\n",
    "            max_val = max(max_val, val) # compare the 2 values\n",
    "        node.value = max_val # maximum vaue\n",
    "        return max_val\n",
    "    else: #\n",
    "        min_val = inf\n",
    "        for child in node.children:\n",
    "            val = min_max(child, 1-level)\n",
    "            min_val = min(min_val, val)\n",
    "        node.value = min_val\n",
    "        return min_val"
   ]
  },
  {
   "cell_type": "code",
   "execution_count": 3,
   "id": "bfed63c6-a8a5-4c9a-a7d3-127304c6b559",
   "metadata": {},
   "outputs": [],
   "source": [
    "# create the tree as in the given task\n",
    "f = TreeNode(-inf-1, \"f\")\n",
    "child1_of_f = TreeNode(5, \"child1_of_f\")\n",
    "e = TreeNode(-inf-1, \"e\")\n",
    "d = TreeNode(-inf-1, \"d\")\n",
    "c = TreeNode(-inf-1, \"c\")\n",
    "child1_of_d = TreeNode(1, \"child1_of_d\")\n",
    "a = TreeNode(-inf-1, \"a\")\n",
    "child1_of_c = TreeNode(5, \"child1_of_c\")\n",
    "b = TreeNode(-inf-1, \"b\")\n",
    "child1_of_a = TreeNode(4, \"child1_of_a\")\n",
    "child2_of_a = TreeNode(2, \"child2_of_a\")\n",
    "child1_of_b = TreeNode(4, \"child1_of_b\")\n",
    "child2_of_b = TreeNode(3, \"child2_of_b\")\n",
    "\n",
    "#connecting nodes to form the tree\n",
    "f.add_child(child1_of_f)\n",
    "f.add_child(e)\n",
    "e.add_child(d)\n",
    "e.add_child(c)\n",
    "d.add_child(child1_of_d)\n",
    "d.add_child(a)\n",
    "c.add_child(child1_of_c)\n",
    "c.add_child(b)\n",
    "a.add_child(child1_of_a)\n",
    "a.add_child(child2_of_a)\n",
    "b.add_child(child1_of_b)\n",
    "b.add_child(child2_of_b)"
   ]
  },
  {
   "cell_type": "code",
   "execution_count": 4,
   "id": "d5d1a613-e02e-46cb-9879-dbcae3bad1b6",
   "metadata": {},
   "outputs": [
    {
     "name": "stdout",
     "output_type": "stream",
     "text": [
      "Max Value in the tree after performing min-max algorthim is: 5\n"
     ]
    }
   ],
   "source": [
    "# perform min max algorithm by passing the top most node name and level\n",
    "\n",
    "min_max(f, 1)\n",
    "print('Max Value in the tree after performing min-max algorthim is:', f.value)"
   ]
  },
  {
   "cell_type": "markdown",
   "id": "ab499fcf-f883-4e02-af44-7abdc110f754",
   "metadata": {},
   "source": [
    "# Task1d: Min-Max Using Alpha-Beta Pruning"
   ]
  },
  {
   "cell_type": "code",
   "execution_count": 5,
   "id": "5716f9ef-f554-4c32-9580-8ef41c4fe515",
   "metadata": {},
   "outputs": [],
   "source": [
    "def min_max_ab(node, alpha, beta, level): #min-max algorithm implementation\n",
    "\n",
    "    print(\"Start of node:\", node.name, node.value, ',', \"Value of Alpha & Beta are:\", alpha, \"&\", beta)\n",
    "    if(len(node.children) == 0): #no child node means this is root node\n",
    "        return node.value #so simply return the value\n",
    "    \n",
    "    if(level): #parity =  1 means this is max node\n",
    "        max_val = -inf #initialize max val with -inf\n",
    "        for child in node.children: #iterate over each child and update the max_val\n",
    "            val = min_max_ab(child, alpha, beta, 1-level) #sending 1-parity as next node will be min node\n",
    "            max_val = max(max_val, val)\n",
    "            alpha = max(alpha, val) #update the value of max_val and alpha\n",
    "            if beta <= alpha: #break when beta <= alpha\n",
    "                # print(\"Prune after node\", child.name)\n",
    "                break\n",
    "        node.value = max_val #assign the node its value\n",
    "        return max_val\n",
    "    else: #same as above but for min node\n",
    "        min_val = inf\n",
    "        for child in node.children:\n",
    "            val = min_max_ab(child, alpha, beta, 1-level)\n",
    "            min_val = min(min_val, val)\n",
    "            beta = min(beta, val)\n",
    "            if beta <= alpha:\n",
    "                # print(\"Prune after node\", child.name)\n",
    "                break\n",
    "        node.value = min_val\n",
    "        print(\"End of node:\", node.name, node.value, \",\", \"Value of Alpha & Beta are:\", alpha, \"&\", beta)\n",
    "        return min_val"
   ]
  },
  {
   "cell_type": "code",
   "execution_count": 6,
   "id": "65ee0ac8-15ba-4780-a52e-984c4ade61e5",
   "metadata": {},
   "outputs": [
    {
     "name": "stdout",
     "output_type": "stream",
     "text": [
      "Start of node: f 5 , Value of Alpha & Beta are: -1000 & 1000\n",
      "Start of node: child1_of_f 5 , Value of Alpha & Beta are: -1000 & 1000\n",
      "Start of node: e 2 , Value of Alpha & Beta are: 5 & 1000\n",
      "Start of node: d 2 , Value of Alpha & Beta are: 5 & 1000\n",
      "Start of node: child1_of_d 1 , Value of Alpha & Beta are: 5 & 1000\n",
      "Start of node: a 2 , Value of Alpha & Beta are: 5 & 1000\n",
      "Start of node: child1_of_a 4 , Value of Alpha & Beta are: 5 & 1000\n",
      "End of node: a 4 , Value of Alpha & Beta are: 5 & 4\n",
      "End of node: e 4 , Value of Alpha & Beta are: 5 & 4\n",
      "Max Value in the tree after performing min-max algorthim using Alpha Beta Pruning is: 5\n"
     ]
    }
   ],
   "source": [
    "min_max_ab(f, -inf, inf, 1)\n",
    "print('Max Value in the tree after performing min-max algorthim using Alpha Beta Pruning is:', f.value)"
   ]
  },
  {
   "cell_type": "code",
   "execution_count": null,
   "id": "81f016d1-1b66-4c1a-a358-5d0c4b3203ed",
   "metadata": {},
   "outputs": [],
   "source": []
  }
 ],
 "metadata": {
  "kernelspec": {
   "display_name": "Python (myenv)",
   "language": "python",
   "name": "myenv"
  },
  "language_info": {
   "codemirror_mode": {
    "name": "ipython",
    "version": 3
   },
   "file_extension": ".py",
   "mimetype": "text/x-python",
   "name": "python",
   "nbconvert_exporter": "python",
   "pygments_lexer": "ipython3",
   "version": "3.12.8"
  }
 },
 "nbformat": 4,
 "nbformat_minor": 5
}
